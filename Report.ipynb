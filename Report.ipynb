{
 "cells": [
  {
   "cell_type": "markdown",
   "metadata": {},
   "source": [
    "# Project Report\n",
    "&copy; Shubham Kondekar @ Intern at CloudCounselage\n",
    "\n",
    "Github link : https://github.com/kondekarshubham123/color-recognition"
   ]
  },
  {
   "cell_type": "markdown",
   "metadata": {},
   "source": [
    "---\n",
    "### PROBLEM STATEMENT:\n",
    "\n",
    "\n",
    "\n",
    "\n",
    "Interns are expected to create a TensorFlow model for identification of color. \n",
    "Your code will be given an image as an input and the code is supposed to categorize \n",
    "which RGB clour it matches to. This code is to be done in Python.\n",
    "\n",
    "\n",
    "\n",
    "On completion, create a Github account and create a repository and commit your code \n",
    "in the same.\n"
   ]
  },
  {
   "attachments": {
    "input.png": {
     "image/png": "[encoded data removed]"
    }
   },
   "cell_type": "markdown",
   "metadata": {},
   "source": [
    "### Input:\n",
    "![input.png](attachment:input.png)"
   ]
  },
  {
   "cell_type": "markdown",
   "metadata": {},
   "source": [
    "## Solution\n",
    "---\n",
    "\n",
    "\n",
    "#### Generated data\n",
    "I have generated dataset to train model\n",
    "\n",
    "code for model generation is located  in \n",
    "\n",
    "    color-recognition/Dataset/DatasetGenerator/\n",
    "\n",
    "---"
   ]
  },
  {
   "cell_type": "markdown",
   "metadata": {},
   "source": [
    "#### Trained model\n",
    "Trained Model is located in\n",
    "    \n",
    "    src/keras_model.h5\n",
    " ---\n",
    " \n",
    " #### Loacte Model"
   ]
  },
  {
   "cell_type": "code",
   "execution_count": 2,
   "metadata": {},
   "outputs": [
    {
     "name": "stdout",
     "output_type": "stream",
     "text": [
      "/home/shubham/Documents/color-recognition/src\n"
     ]
    }
   ],
   "source": [
    "import os\n",
    "os.chdir('src/')\n",
    "print(os.getcwd())"
   ]
  },
  {
   "attachments": {
    "IP.png": {
     "image/png": "[encoded data removed]"
    },
    "IP2.png": {
     "image/png": "[encoded data removed]"
    },
    "IP3.png": {
     "image/png": "[encoded data removed]"
    }
   },
   "cell_type": "markdown",
   "metadata": {},
   "source": [
    "### Input Image file IP.png\n",
    "\n",
    "![IP.png](attachment:IP.png)\n",
    "\n",
    "    Image Name : IP.png\n",
    "    \n",
    "---\n",
    "![IP2.png](attachment:IP2.png)\n",
    "\n",
    "    Image Name : IP2.png\n",
    "---\n",
    "![IP3.png](attachment:IP3.png)\n",
    "\n",
    "    Image Name : IP3.png\n",
    "---"
   ]
  },
  {
   "cell_type": "code",
   "execution_count": 3,
   "metadata": {},
   "outputs": [],
   "source": [
    "#Import Library\n",
    "import tensorflow.keras\n",
    "from PIL import Image, ImageOps\n",
    "import numpy as np"
   ]
  },
  {
   "cell_type": "code",
   "execution_count": 4,
   "metadata": {},
   "outputs": [],
   "source": [
    "# Disable scientific notation for clarity\n",
    "np.set_printoptions(suppress=True)"
   ]
  },
  {
   "cell_type": "code",
   "execution_count": 5,
   "metadata": {},
   "outputs": [
    {
     "name": "stdout",
     "output_type": "stream",
     "text": [
      "WARNING:tensorflow:No training configuration found in the save file, so the model was *not* compiled. Compile it manually.\n"
     ]
    }
   ],
   "source": [
    "# Load the model\n",
    "model = tensorflow.keras.models.load_model('keras_model.h5')"
   ]
  },
  {
   "cell_type": "code",
   "execution_count": 6,
   "metadata": {},
   "outputs": [],
   "source": [
    "# Create the array of the right shape to feed into the keras model\n",
    "# The 'length' or number of images you can put into the array is\n",
    "# determined by the first position in the shape tuple, in this case 1.\n",
    "data = np.ndarray(shape=(1, 224, 224, 3), dtype=np.float32)"
   ]
  },
  {
   "cell_type": "code",
   "execution_count": 39,
   "metadata": {},
   "outputs": [],
   "source": [
    "# Replace this with the path to your image\n",
    "image = Image.open('IP3.png')"
   ]
  },
  {
   "cell_type": "code",
   "execution_count": 40,
   "metadata": {},
   "outputs": [],
   "source": [
    "#resize the image to a 224x224 with the same strategy as in TM2:\n",
    "#resizing the image to be at least 224x224 and then cropping from the center\n",
    "size = (224, 224)\n",
    "image = ImageOps.fit(image, size, Image.ANTIALIAS)\n",
    "\n",
    "#turn the image into a numpy array\n",
    "image_array = np.asarray(image)\n",
    "\n",
    "# display the resized image\n",
    "image.show()\n",
    "\n",
    "# Normalize the image\n",
    "normalized_image_array = (image_array.astype(np.float32) / 127.0) - 1\n",
    "\n",
    "# Load the image into the array\n",
    "data[0] = normalized_image_array\n",
    "\n",
    "# run the inference\n",
    "prediction = model.predict(data)\n",
    "\n",
    "# Label \n",
    "Label = [\"Red\",\"Green\",\"Blue\",\"Orange\",\"Yellow\",\"Voilet\",\"Indigo\"]"
   ]
  },
  {
   "cell_type": "code",
   "execution_count": 41,
   "metadata": {},
   "outputs": [
    {
     "data": {
      "image/png": "[encoded data removed]",
      "text/plain": [
       "<Figure size 432x288 with 1 Axes>"
      ]
     },
     "metadata": {
      "needs_background": "light"
     },
     "output_type": "display_data"
    }
   ],
   "source": [
    "# Prediction Graph\n",
    "import matplotlib.pyplot as plt\n",
    "\n",
    "\n",
    "y,x = prediction[0],Label\n",
    "plt.plot(x,y)\n",
    "plt.xlabel('Color')\n",
    "plt.ylabel('Prediction')\n",
    "plt.title(\"Color-Recognition\")\n",
    "plt.show()"
   ]
  },
  {
   "cell_type": "code",
   "execution_count": 42,
   "metadata": {},
   "outputs": [
    {
     "name": "stdout",
     "output_type": "stream",
     "text": [
      "Given input file is of Orange color with prediction percentage 98.792726%\n"
     ]
    }
   ],
   "source": [
    "ans = max(list(zip(prediction[0],Label)))\n",
    "print(\"Given input file is of {} color with prediction percentage {:2f}%\".format(ans[1],ans[0]*100))"
   ]
  },
  {
   "cell_type": "markdown",
   "metadata": {},
   "source": [
    "## Thank You ##\n",
    "\n",
    "Email : kondekarshubham123@gmail.com\n",
    "\n",
    "&copy; Shubham Kondekar\n"
   ]
  }
 ],
 "metadata": {
  "kernelspec": {
   "display_name": "Python 3",
   "language": "python",
   "name": "python3"
  }
 },
 "nbformat": 4,
 "nbformat_minor": 4
}
